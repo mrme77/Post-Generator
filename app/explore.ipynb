{
 "cells": [
  {
   "cell_type": "code",
   "execution_count": null,
   "id": "dd0f778e",
   "metadata": {},
   "outputs": [
    {
     "name": "stdout",
     "output_type": "stream",
     "text": [
      "{'timestamp': '2025-07-01 14:58:10', 'event_type': 'generation', 'metadata': {'tone': 'Promotional', 'version': 'v1-Standard structure and tone', 'length': 1227}, 'content': 'Have you ever thought about how much preparation goes into a simple school day? I\\'ve been reviewing this engaging Level 1 Conversation Lesson 7, and it\\'s fascinating how much we can learn from these structured activities! 🏫\\n\\nThe lesson starts with a simple but powerful question: \"What do you need to do before going back to school?\" It\\'s amazing how breaking down routines into small steps—like completing homework, preparing bags, and getting school supplies ready—can make a big difference. I love how it emphasizes the importance of morning routines, like eating breakfast and putting on a school uniform, to start the day right.\\n\\nOne of the standout activities is the \"What Am I?\" game, where students identify objects like pencils and crayons. It\\'s a fun way to reinforce vocabulary and critical thinking. The lesson also includes a virtual school tour, highlighting activities like playing basketball, dancing, and enjoying lunch time. It\\'s a great reminder of how diverse and engaging school environments can be!\\n\\nWhat\\'s your favorite school activity or routine that sets you up for a successful day? Let\\'s share and inspire each other! 📚\\n\\nBased on work by [Authors] ([Publication Date]) #llm #education #schoolroutines'}\n"
     ]
    }
   ],
   "source": [
    "import json\n",
    "import os\n",
    "from datetime import datetime\n",
    "\n",
    "def read_jsonl_file(filepath):\n",
    "    \"\"\"Read a JSONL file and return a list of JSON objects.\"\"\"\n",
    "    data = []\n",
    "    with open(filepath, 'r', encoding='utf-8') as file:\n",
    "        for line in file:\n",
    "            try:\n",
    "                data.append(json.loads(line.strip()))\n",
    "            except json.JSONDecodeError:\n",
    "                print(f\"Error parsing line: {line}\")\n",
    "                continue\n",
    "    return data\n",
    "\n",
    "# Example usage\n",
    "log_dir = \"/Users/DS Projects/VertexAi/llm_pdf_to_linkedin/app\"\n",
    "filename = \"logs.jsonl\"  # Replace with your filename\n",
    "filepath = os.path.join(log_dir, filename)\n",
    "\n",
    "if os.path.exists(filepath):\n",
    "    data = read_jsonl_file(filepath)\n",
    "    for entry in data:\n",
    "        print(entry)\n",
    "else:\n",
    "    print(f\"File not found: {filepath}\")\n"
   ]
  },
  {
   "cell_type": "code",
   "execution_count": 20,
   "id": "82e61c49",
   "metadata": {},
   "outputs": [
    {
     "data": {
      "text/plain": [
       "False"
      ]
     },
     "execution_count": 20,
     "metadata": {},
     "output_type": "execute_result"
    }
   ],
   "source": [
    "from google.cloud import storage\n",
    "client = storage.Client(project=\"adk-rag-project\")\n",
    "\n",
    "import os\n",
    "#os.environ[\"GOOGLE_APPLICATION_CREDENTIALS\"] = \"/Users/pasqualesalomone/Documents/adk-rag-project-064555fb3b39.json\"\n",
    "from dotenv import load_dotenv\n",
    "\n",
    "load_dotenv()\n"
   ]
  },
  {
   "cell_type": "code",
   "execution_count": 23,
   "id": "526ff54a",
   "metadata": {},
   "outputs": [
    {
     "name": "stdout",
     "output_type": "stream",
     "text": [
      "Using credentials from: pdf-post-logger@adk-rag-project.iam.gserviceaccount.com\n",
      "Project: adk-rag-project\n"
     ]
    }
   ],
   "source": [
    "from google.auth import default\n",
    "creds, project = default()\n",
    "print(\"Using credentials from:\", creds.service_account_email)\n",
    "print(\"Project:\", project)\n"
   ]
  },
  {
   "cell_type": "code",
   "execution_count": null,
   "id": "c7d5d79c",
   "metadata": {},
   "outputs": [],
   "source": []
  }
 ],
 "metadata": {
  "kernelspec": {
   "display_name": "llmpdf-env",
   "language": "python",
   "name": "python3"
  },
  "language_info": {
   "codemirror_mode": {
    "name": "ipython",
    "version": 3
   },
   "file_extension": ".py",
   "mimetype": "text/x-python",
   "name": "python",
   "nbconvert_exporter": "python",
   "pygments_lexer": "ipython3",
   "version": "3.13.1"
  }
 },
 "nbformat": 4,
 "nbformat_minor": 5
}
