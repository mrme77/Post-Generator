{
 "cells": [
  {
   "cell_type": "code",
   "execution_count": 2,
   "id": "dd0f778e",
   "metadata": {},
   "outputs": [
    {
     "name": "stdout",
     "output_type": "stream",
     "text": [
      "{'timestamp': '2025-06-19 13:53:30', 'event_type': 'generation', 'metadata': {'tone': 'Mario Bros Style', 'version': 'v2-Experimental with richer sentence variety and longer posts', 'length': 1739}, 'content': \"As I delved into the fascinating story of the Afro-Napoli United, a football team that brings together migrants and Italians, I couldn't help but wonder: can sports truly be a powerful tool for integration? 🤔\\n\\nThe research by Luca Bifulco and Adele Del Guercio highlights the complexities of integration, particularly in the context of the Campania region, where the team is based. The authors show how the Afro-Napoli United has not only promoted a multi-ethnic culture but has also influenced the lives of its players, fostering social capital and relational networks that are essential for accessing economic and social resources.\\n\\nWhat struck me was the team's ability to create a sense of belonging and pride among its players, many of whom are migrants. The authors note that the team's success has increased the players' local prestige and general trust, allowing them to access resources and services that might have been out of reach otherwise.\\n\\nAs I read through the document, I was struck by the importance of social capital in understanding social and economic outcomes. The authors draw on the work of Pierre Bourdieu and Robert Putnam, highlighting the role of social capital in facilitating integration and reducing socio-economic exclusion.\\n\\nThe Afro-Napoli United's story is a powerful reminder that sports can be a powerful tool for promoting integration and social cohesion. As the authors note, the team's experience is not without its challenges, but it offers valuable insights into the complex dynamics of integration and the role that sports can play in fostering social capital and relational networks.\\n\\nBased on work by Luca Bifulco and Adele Del Guercio (Publication Date Not Specified) #llm #sports #integration\"}\n",
      "{'timestamp': '2025-06-19 13:54:05', 'event_type': 'feedback', 'metadata': {'sentiment': 'positive'}, 'content': \"As I delved into the fascinating story of the Afro-Napoli United, a football team that brings together migrants and Italians, I couldn't help but wonder: can sports truly be a powerful tool for integration? 🤔\\n\\nThe research by Luca Bifulco and Adele Del Guercio highlights the complexities of integration, particularly in the context of the Campania region, where the team is based. The authors show how the Afro-Napoli United has not only promoted a multi-ethnic culture but has also influenced the lives of its players, fostering social capital and relational networks that are essential for accessing economic and social resources.\\n\\nWhat struck me was the team's ability to create a sense of belonging and pride among its players, many of whom are migrants. The authors note that the team's success has increased the players' local prestige and general trust, allowing them to access resources and services that might have been out of reach otherwise.\\n\\nAs I read through the document, I was struck by the importance of social capital in understanding social and economic outcomes. The authors draw on the work of Pierre Bourdieu and Robert Putnam, highlighting the role of social capital in facilitating integration and reducing socio-economic exclusion.\\n\\nThe Afro-Napoli United's story is a powerful reminder that sports can be a powerful tool for promoting integration and social cohesion. As the authors note, the team's experience is not without its challenges, but it offers valuable insights into the complex dynamics of integration and the role that sports can play in fostering social capital and relational networks.\\n\\nBased on work by Luca Bifulco and Adele Del Guercio (Publication Date Not Specified) #llm #sports #integration\"}\n",
      "{'timestamp': '2025-06-19 13:56:11', 'event_type': 'generation', 'metadata': {'tone': 'Professional', 'version': 'v1-Standard structure and tone', 'length': 1392}, 'content': \"I've read a fascinating document about the role of football in promoting integration and social capital among migrants. As someone who's passionate about understanding the complexities of social dynamics, I was particularly interested in the case study of Afro-Napoli United, a football team composed of migrant and Italian players.\\n\\nWhat struck me was the way the team's experience has influenced the lives of its players, not just in terms of their social capital, but also in their ability to access economic and social resources. The document highlights how the team's activities have helped players like Adama, a young Ivorian calciatore, to build relationships with locals and feel a sense of belonging in their new community.\\n\\nI was also impressed by the team's efforts to promote social capital and integration, particularly in the face of challenges such as discriminatory laws and practices. The document notes how the team has worked to overcome these obstacles, and how its players have benefited from the experience.\\n\\nAs I reflect on the insights from this document, I'm left with a question: how can we replicate the success of Afro-Napoli United in other contexts, and what role can football play in promoting social cohesion and integration in diverse communities?\\n\\nBased on work by Luca Bifulco and Adele Del Guercio (Publication Date Not Specified) #llm #sports #integration\"}\n",
      "{'timestamp': '2025-06-19 13:56:16', 'event_type': 'feedback', 'metadata': {'sentiment': 'positive'}, 'content': \"I've read a fascinating document about the role of football in promoting integration and social capital among migrants. As someone who's passionate about understanding the complexities of social dynamics, I was particularly interested in the case study of Afro-Napoli United, a football team composed of migrant and Italian players.\\n\\nWhat struck me was the way the team's experience has influenced the lives of its players, not just in terms of their social capital, but also in their ability to access economic and social resources. The document highlights how the team's activities have helped players like Adama, a young Ivorian calciatore, to build relationships with locals and feel a sense of belonging in their new community.\\n\\nI was also impressed by the team's efforts to promote social capital and integration, particularly in the face of challenges such as discriminatory laws and practices. The document notes how the team has worked to overcome these obstacles, and how its players have benefited from the experience.\\n\\nAs I reflect on the insights from this document, I'm left with a question: how can we replicate the success of Afro-Napoli United in other contexts, and what role can football play in promoting social cohesion and integration in diverse communities?\\n\\nBased on work by Luca Bifulco and Adele Del Guercio (Publication Date Not Specified) #llm #sports #integration\"}\n"
     ]
    }
   ],
   "source": [
    "import json\n",
    "import os\n",
    "from datetime import datetime\n",
    "\n",
    "def read_jsonl_file(filepath):\n",
    "    \"\"\"Read a JSONL file and return a list of JSON objects.\"\"\"\n",
    "    data = []\n",
    "    with open(filepath, 'r', encoding='utf-8') as file:\n",
    "        for line in file:\n",
    "            try:\n",
    "                data.append(json.loads(line.strip()))\n",
    "            except json.JSONDecodeError:\n",
    "                print(f\"Error parsing line: {line}\")\n",
    "                continue\n",
    "    return data\n",
    "\n",
    "# Example usage\n",
    "log_dir = \"/Users/pasqualesalomone/Downloads/\"\n",
    "filename = \"analytics_logs_2025-06-19.jsonl\"  # Replace with your filename\n",
    "filepath = os.path.join(log_dir, filename)\n",
    "\n",
    "if os.path.exists(filepath):\n",
    "    data = read_jsonl_file(filepath)\n",
    "    for entry in data:\n",
    "        print(entry)\n",
    "else:\n",
    "    print(f\"File not found: {filepath}\")\n"
   ]
  },
  {
   "cell_type": "code",
   "execution_count": 3,
   "id": "82e61c49",
   "metadata": {},
   "outputs": [
    {
     "name": "stdout",
     "output_type": "stream",
     "text": [
      "post_generator1\n"
     ]
    }
   ],
   "source": [
    "from google.cloud import storage\n",
    "\n",
    "client = storage.Client()\n",
    "for bucket in client.list_buckets():\n",
    "    print(bucket.name)\n"
   ]
  },
  {
   "cell_type": "code",
   "execution_count": null,
   "id": "526ff54a",
   "metadata": {},
   "outputs": [],
   "source": []
  }
 ],
 "metadata": {
  "kernelspec": {
   "display_name": "llmpdf-env",
   "language": "python",
   "name": "python3"
  },
  "language_info": {
   "codemirror_mode": {
    "name": "ipython",
    "version": 3
   },
   "file_extension": ".py",
   "mimetype": "text/x-python",
   "name": "python",
   "nbconvert_exporter": "python",
   "pygments_lexer": "ipython3",
   "version": "3.13.1"
  }
 },
 "nbformat": 4,
 "nbformat_minor": 5
}
