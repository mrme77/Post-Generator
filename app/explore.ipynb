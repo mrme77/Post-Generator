{
 "cells": [
  {
   "cell_type": "code",
   "execution_count": null,
   "id": "dd0f778e",
   "metadata": {},
   "outputs": [
    {
     "name": "stdout",
     "output_type": "stream",
     "text": [
      "File not found: /Users/pasqualesalomone/Downloads/analytics_logs_2025-06-19.jsonl/2025-06-19.jsonl\n"
     ]
    }
   ],
   "source": [
    "import json\n",
    "import os\n",
    "from datetime import datetime\n",
    "\n",
    "def read_jsonl_file(filepath):\n",
    "    \"\"\"Read a JSONL file and return a list of JSON objects.\"\"\"\n",
    "    data = []\n",
    "    with open(filepath, 'r', encoding='utf-8') as file:\n",
    "        for line in file:\n",
    "            try:\n",
    "                data.append(json.loads(line.strip()))\n",
    "            except json.JSONDecodeError:\n",
    "                print(f\"Error parsing line: {line}\")\n",
    "                continue\n",
    "    return data\n",
    "\n",
    "# Example usage\n",
    "log_dir = \"/Users/pasqualesalomone/Downloads/\"\n",
    "filename = \"analytics_logs_2025-06-19.jsonl\"  # Replace with your filename\n",
    "filepath = os.path.join(log_dir, filename)\n",
    "\n",
    "if os.path.exists(filepath):\n",
    "    data = read_jsonl_file(filepath)\n",
    "    for entry in data:\n",
    "        print(entry)\n",
    "else:\n",
    "    print(f\"File not found: {filepath}\")\n"
   ]
  },
  {
   "cell_type": "code",
   "execution_count": null,
   "id": "82e61c49",
   "metadata": {},
   "outputs": [],
   "source": []
  }
 ],
 "metadata": {
  "kernelspec": {
   "display_name": "llmpdf-env",
   "language": "python",
   "name": "python3"
  },
  "language_info": {
   "codemirror_mode": {
    "name": "ipython",
    "version": 3
   },
   "file_extension": ".py",
   "mimetype": "text/x-python",
   "name": "python",
   "nbconvert_exporter": "python",
   "pygments_lexer": "ipython3",
   "version": "3.13.1"
  }
 },
 "nbformat": 4,
 "nbformat_minor": 5
}
